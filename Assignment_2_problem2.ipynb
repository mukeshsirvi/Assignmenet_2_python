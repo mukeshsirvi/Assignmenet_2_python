{
 "cells": [
  {
   "cell_type": "markdown",
   "id": "4f644a20",
   "metadata": {},
   "source": [
    "# Make Your Own mini-Dictionary"
   ]
  },
  {
   "cell_type": "markdown",
   "id": "b4cb5833",
   "metadata": {},
   "source": [
    "## Write a Python program to print a dictionary whose keys should be the alphabet from a-z and the value should be corresponding ASCII values\n",
    "\n",
    "\n",
    "\n",
    "Hint: ord('a') = 97\n",
    "\n",
    "\n",
    "\n",
    "Sample Output :\n",
    "\n",
    "\n",
    "\n",
    "{'a': 97, 'b': 98, 'c': 99, 'd': 100, 'e': 101, 'f': 102, 'g': 103, 'h': 104, 'i': 105, 'j': 106, 'k': 107, 'l': 108, 'm': 109, 'n': 110, 'o': 111, 'p': 112, 'q': 113, 'r': 114, 's': 115, 't': 116, 'u': 117, 'v': 118, 'w': 119, 'x': 120, 'y': 121, 'z': 122}\n",
    "\n"
   ]
  },
  {
   "cell_type": "code",
   "execution_count": 13,
   "id": "a76e43e9",
   "metadata": {},
   "outputs": [
    {
     "name": "stdout",
     "output_type": "stream",
     "text": [
      "{'a': 97}{'b': 98}{'c': 99}{'d': 100}{'e': 101}{'f': 102}{'g': 103}{'h': 104}{'i': 105}{'j': 106}{'k': 107}{'l': 108}{'m': 109}{'n': 110}{'o': 111}{'p': 112}{'q': 113}{'r': 114}{'s': 115}{'t': 116}{'u': 117}{'v': 118}{'w': 119}{'x': 120}{'y': 121}{'z': 122}"
     ]
    }
   ],
   "source": [
    "\n",
    "    for i in range(97,123):\n",
    "        dic={\n",
    "            chr(i):i,\n",
    "            }\n",
    "        print(dic,end=\"\")"
   ]
  },
  {
   "cell_type": "code",
   "execution_count": null,
   "id": "9795714e",
   "metadata": {},
   "outputs": [],
   "source": []
  }
 ],
 "metadata": {
  "kernelspec": {
   "display_name": "Python 3 (ipykernel)",
   "language": "python",
   "name": "python3"
  },
  "language_info": {
   "codemirror_mode": {
    "name": "ipython",
    "version": 3
   },
   "file_extension": ".py",
   "mimetype": "text/x-python",
   "name": "python",
   "nbconvert_exporter": "python",
   "pygments_lexer": "ipython3",
   "version": "3.10.1"
  }
 },
 "nbformat": 4,
 "nbformat_minor": 5
}
