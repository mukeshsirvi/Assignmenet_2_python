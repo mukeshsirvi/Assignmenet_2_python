{
 "cells": [
  {
   "cell_type": "markdown",
   "id": "1a34fce0",
   "metadata": {},
   "source": [
    "#  Fun with List and Tuple"
   ]
  },
  {
   "cell_type": "markdown",
   "id": "e9a623e9",
   "metadata": {},
   "source": [
    "Write a Python program ---->\n",
    "\n",
    "\n",
    "\n",
    "step 1: create a list L1 = [1,2,3,4,5]\n",
    "\n",
    "\n",
    "\n",
    "step 2 : use L1 to make a list of tuples like below:\n",
    "\n"
   ]
  },
  {
   "cell_type": "markdown",
   "id": "5fa88c1f",
   "metadata": {},
   "source": [
    "Expected Result : [(1, 1), (2, 4), (3, 9), (4, 16), (5, 25)]"
   ]
  },
  {
   "cell_type": "code",
   "execution_count": 2,
   "id": "fa5816ce",
   "metadata": {},
   "outputs": [
    {
     "name": "stdout",
     "output_type": "stream",
     "text": [
      "[(1, 1), (2, 4), (3, 9), (4, 16), (5, 25)]\n"
     ]
    }
   ],
   "source": [
    "L1=[1,2,3,4,5]\n",
    "L2=[]\n",
    "for i in L1:\n",
    "    value=i\n",
    "    value_square=i**2\n",
    "    t=(value,value_square)\n",
    "    L2.append(t)\n",
    "print(L2)"
   ]
  },
  {
   "cell_type": "code",
   "execution_count": null,
   "id": "b91d2e39",
   "metadata": {},
   "outputs": [],
   "source": []
  }
 ],
 "metadata": {
  "kernelspec": {
   "display_name": "Python 3 (ipykernel)",
   "language": "python",
   "name": "python3"
  },
  "language_info": {
   "codemirror_mode": {
    "name": "ipython",
    "version": 3
   },
   "file_extension": ".py",
   "mimetype": "text/x-python",
   "name": "python",
   "nbconvert_exporter": "python",
   "pygments_lexer": "ipython3",
   "version": "3.10.1"
  }
 },
 "nbformat": 4,
 "nbformat_minor": 5
}
